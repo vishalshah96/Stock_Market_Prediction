{
  "nbformat": 4,
  "nbformat_minor": 0,
  "metadata": {
    "colab": {
      "name": "AMZN2.ipynb",
      "provenance": [],
      "collapsed_sections": []
    },
    "kernelspec": {
      "name": "python3",
      "display_name": "Python 3"
    }
  },
  "cells": [
    {
      "cell_type": "code",
      "metadata": {
        "id": "oCq0sdniFo8m",
        "colab_type": "code",
        "outputId": "7ec2b2c0-0c93-4209-c510-cbe39c8b11e3",
        "colab": {
          "base_uri": "https://localhost:8080/",
          "height": 88
        }
      },
      "source": [
        "#importing the libraries\n",
        "import numpy as np\n",
        "import pandas as pd\n",
        "import math\n",
        "import pandas_datareader as web\n",
        "from sklearn.preprocessing import MinMaxScaler\n",
        "from keras.models import Sequential\n",
        "from keras.layers import Dense, LSTM\n",
        "import matplotlib.pyplot as plt\n",
        "plt.style.use(['seaborn-darkgrid'])"
      ],
      "execution_count": 1,
      "outputs": [
        {
          "output_type": "stream",
          "text": [
            "/usr/local/lib/python3.6/dist-packages/pandas_datareader/compat/__init__.py:7: FutureWarning: pandas.util.testing is deprecated. Use the functions in the public API at pandas.testing instead.\n",
            "  from pandas.util.testing import assert_frame_equal\n",
            "Using TensorFlow backend.\n"
          ],
          "name": "stderr"
        }
      ]
    },
    {
      "cell_type": "code",
      "metadata": {
        "id": "XxZrJr_BI_q9",
        "colab_type": "code",
        "outputId": "a9b67c80-556b-417d-b1e7-e51b886cc5fc",
        "colab": {
          "base_uri": "https://localhost:8080/",
          "height": 450
        }
      },
      "source": [
        "#Get the data set from finance.yahoo from start of 2012 to start of 2020\n",
        "df = web.DataReader('AMZN', data_source='yahoo', start='2012-01-01', end='2020-01-01') \n",
        "#displaying the dataset\n",
        "df"
      ],
      "execution_count": 2,
      "outputs": [
        {
          "output_type": "execute_result",
          "data": {
            "text/html": [
              "<div>\n",
              "<style scoped>\n",
              "    .dataframe tbody tr th:only-of-type {\n",
              "        vertical-align: middle;\n",
              "    }\n",
              "\n",
              "    .dataframe tbody tr th {\n",
              "        vertical-align: top;\n",
              "    }\n",
              "\n",
              "    .dataframe thead th {\n",
              "        text-align: right;\n",
              "    }\n",
              "</style>\n",
              "<table border=\"1\" class=\"dataframe\">\n",
              "  <thead>\n",
              "    <tr style=\"text-align: right;\">\n",
              "      <th></th>\n",
              "      <th>High</th>\n",
              "      <th>Low</th>\n",
              "      <th>Open</th>\n",
              "      <th>Close</th>\n",
              "      <th>Volume</th>\n",
              "      <th>Adj Close</th>\n",
              "    </tr>\n",
              "    <tr>\n",
              "      <th>Date</th>\n",
              "      <th></th>\n",
              "      <th></th>\n",
              "      <th></th>\n",
              "      <th></th>\n",
              "      <th></th>\n",
              "      <th></th>\n",
              "    </tr>\n",
              "  </thead>\n",
              "  <tbody>\n",
              "    <tr>\n",
              "      <th>2012-01-03</th>\n",
              "      <td>179.479996</td>\n",
              "      <td>175.550003</td>\n",
              "      <td>175.889999</td>\n",
              "      <td>179.029999</td>\n",
              "      <td>5110800</td>\n",
              "      <td>179.029999</td>\n",
              "    </tr>\n",
              "    <tr>\n",
              "      <th>2012-01-04</th>\n",
              "      <td>180.500000</td>\n",
              "      <td>176.070007</td>\n",
              "      <td>179.210007</td>\n",
              "      <td>177.509995</td>\n",
              "      <td>4205200</td>\n",
              "      <td>177.509995</td>\n",
              "    </tr>\n",
              "    <tr>\n",
              "      <th>2012-01-05</th>\n",
              "      <td>178.250000</td>\n",
              "      <td>174.050003</td>\n",
              "      <td>175.940002</td>\n",
              "      <td>177.610001</td>\n",
              "      <td>3809100</td>\n",
              "      <td>177.610001</td>\n",
              "    </tr>\n",
              "    <tr>\n",
              "      <th>2012-01-06</th>\n",
              "      <td>184.649994</td>\n",
              "      <td>177.500000</td>\n",
              "      <td>178.070007</td>\n",
              "      <td>182.610001</td>\n",
              "      <td>7008400</td>\n",
              "      <td>182.610001</td>\n",
              "    </tr>\n",
              "    <tr>\n",
              "      <th>2012-01-09</th>\n",
              "      <td>184.369995</td>\n",
              "      <td>177.000000</td>\n",
              "      <td>182.759995</td>\n",
              "      <td>178.559998</td>\n",
              "      <td>5056900</td>\n",
              "      <td>178.559998</td>\n",
              "    </tr>\n",
              "    <tr>\n",
              "      <th>...</th>\n",
              "      <td>...</td>\n",
              "      <td>...</td>\n",
              "      <td>...</td>\n",
              "      <td>...</td>\n",
              "      <td>...</td>\n",
              "      <td>...</td>\n",
              "    </tr>\n",
              "    <tr>\n",
              "      <th>2019-12-24</th>\n",
              "      <td>1795.569946</td>\n",
              "      <td>1787.579956</td>\n",
              "      <td>1793.810059</td>\n",
              "      <td>1789.209961</td>\n",
              "      <td>881300</td>\n",
              "      <td>1789.209961</td>\n",
              "    </tr>\n",
              "    <tr>\n",
              "      <th>2019-12-26</th>\n",
              "      <td>1870.459961</td>\n",
              "      <td>1799.500000</td>\n",
              "      <td>1801.010010</td>\n",
              "      <td>1868.770020</td>\n",
              "      <td>6005400</td>\n",
              "      <td>1868.770020</td>\n",
              "    </tr>\n",
              "    <tr>\n",
              "      <th>2019-12-27</th>\n",
              "      <td>1901.400024</td>\n",
              "      <td>1866.010010</td>\n",
              "      <td>1882.920044</td>\n",
              "      <td>1869.800049</td>\n",
              "      <td>6186600</td>\n",
              "      <td>1869.800049</td>\n",
              "    </tr>\n",
              "    <tr>\n",
              "      <th>2019-12-30</th>\n",
              "      <td>1884.000000</td>\n",
              "      <td>1840.619995</td>\n",
              "      <td>1874.000000</td>\n",
              "      <td>1846.890015</td>\n",
              "      <td>3674700</td>\n",
              "      <td>1846.890015</td>\n",
              "    </tr>\n",
              "    <tr>\n",
              "      <th>2019-12-31</th>\n",
              "      <td>1853.260010</td>\n",
              "      <td>1832.229980</td>\n",
              "      <td>1842.000000</td>\n",
              "      <td>1847.839966</td>\n",
              "      <td>2506500</td>\n",
              "      <td>1847.839966</td>\n",
              "    </tr>\n",
              "  </tbody>\n",
              "</table>\n",
              "<p>2012 rows × 6 columns</p>\n",
              "</div>"
            ],
            "text/plain": [
              "                   High          Low  ...   Volume    Adj Close\n",
              "Date                                  ...                      \n",
              "2012-01-03   179.479996   175.550003  ...  5110800   179.029999\n",
              "2012-01-04   180.500000   176.070007  ...  4205200   177.509995\n",
              "2012-01-05   178.250000   174.050003  ...  3809100   177.610001\n",
              "2012-01-06   184.649994   177.500000  ...  7008400   182.610001\n",
              "2012-01-09   184.369995   177.000000  ...  5056900   178.559998\n",
              "...                 ...          ...  ...      ...          ...\n",
              "2019-12-24  1795.569946  1787.579956  ...   881300  1789.209961\n",
              "2019-12-26  1870.459961  1799.500000  ...  6005400  1868.770020\n",
              "2019-12-27  1901.400024  1866.010010  ...  6186600  1869.800049\n",
              "2019-12-30  1884.000000  1840.619995  ...  3674700  1846.890015\n",
              "2019-12-31  1853.260010  1832.229980  ...  2506500  1847.839966\n",
              "\n",
              "[2012 rows x 6 columns]"
            ]
          },
          "metadata": {
            "tags": []
          },
          "execution_count": 2
        }
      ]
    },
    {
      "cell_type": "code",
      "metadata": {
        "id": "aVmJfz1AI4Od",
        "colab_type": "code",
        "outputId": "61cd76fe-b6f8-46ad-91ea-76cc37146a15",
        "colab": {
          "base_uri": "https://localhost:8080/",
          "height": 565
        }
      },
      "source": [
        "#Plotting the closing price of the stock for the past 8 years\n",
        "plt.figure(figsize=(18,9))\n",
        "plt.title('Close Price')\n",
        "plt.plot(df['Close'])\n",
        "plt.xlabel('Date',fontsize=12)\n",
        "plt.ylabel('Close Price USD ($)',fontsize=12)\n",
        "plt.show()"
      ],
      "execution_count": 3,
      "outputs": [
        {
          "output_type": "display_data",
          "data": {
            "image/png": "[encoded data removed]",
            "text/plain": [
              "<Figure size 1296x648 with 1 Axes>"
            ]
          },
          "metadata": {
            "tags": [],
            "needs_background": "light"
          }
        }
      ]
    },
    {
      "cell_type": "code",
      "metadata": {
        "id": "fxVAKeSGKQ80",
        "colab_type": "code",
        "colab": {}
      },
      "source": [
        "#Retreiving only closing stock values\n",
        "close = df.filter(['Close'])\n",
        "#Converting the dataframe to a numpy array\n",
        "dataset = close.values\n",
        "#Get /Compute the number of rows to train the model on\n",
        "train_len = math.ceil( len(dataset) *.8) "
      ],
      "execution_count": 0,
      "outputs": []
    },
    {
      "cell_type": "code",
      "metadata": {
        "id": "OfgZrgBsK8KX",
        "colab_type": "code",
        "colab": {}
      },
      "source": [
        "#Scaling the values before fitting it in the model \n",
        "scaler = MinMaxScaler(feature_range=(0, 1)) \n",
        "scaled_data = scaler.fit_transform(dataset)"
      ],
      "execution_count": 0,
      "outputs": []
    },
    {
      "cell_type": "code",
      "metadata": {
        "id": "JrU4gbs5K_Eu",
        "colab_type": "code",
        "colab": {}
      },
      "source": [
        "#SCaling the data between 0 and 1\n",
        "train_data = scaled_data[0:train_len  , : ]\n",
        "#Dividing the data set into train and test\n",
        "x_train=[]\n",
        "y_train = []\n",
        "for i in range(100,len(train_data)):\n",
        "    x_train.append(train_data[i-100:i,0])\n",
        "    y_train.append(train_data[i,0])"
      ],
      "execution_count": 0,
      "outputs": []
    },
    {
      "cell_type": "code",
      "metadata": {
        "id": "w9oze_9mLBsJ",
        "colab_type": "code",
        "colab": {}
      },
      "source": [
        "#Transform x_train and y_train to numpy arrays\n",
        "x_train, y_train = np.array(x_train), np.array(y_train)"
      ],
      "execution_count": 0,
      "outputs": []
    },
    {
      "cell_type": "code",
      "metadata": {
        "id": "w0Zhya6iLDuZ",
        "colab_type": "code",
        "colab": {}
      },
      "source": [
        "#Changing the shape of the data set to fit in our model\n",
        "x_train = np.reshape(x_train, (x_train.shape[0],x_train.shape[1],1))"
      ],
      "execution_count": 0,
      "outputs": []
    },
    {
      "cell_type": "code",
      "metadata": {
        "id": "O_IuZI4xLGS9",
        "colab_type": "code",
        "colab": {}
      },
      "source": [
        "#Modelling the predictor using LSTM\n",
        "Predictor = Sequential()\n",
        "Predictor.add(LSTM(units=50, return_sequences=True,input_shape=(x_train.shape[1],1)))\n",
        "Predictor.add(LSTM(units=50, return_sequences=False))\n",
        "Predictor.add(Dense(units=25))\n",
        "Predictor.add(Dense(units=1))"
      ],
      "execution_count": 0,
      "outputs": []
    },
    {
      "cell_type": "code",
      "metadata": {
        "id": "Z5ej4maOLJak",
        "colab_type": "code",
        "colab": {}
      },
      "source": [
        "#Compiling it using stochastic gradient descent optimizer called Adam \n",
        "Predictor.compile(optimizer='adam', loss='mean_squared_error')"
      ],
      "execution_count": 0,
      "outputs": []
    },
    {
      "cell_type": "code",
      "metadata": {
        "id": "zV4NbL7zLLnX",
        "colab_type": "code",
        "outputId": "3dc66c73-019e-46a5-9877-ae422b1e68f9",
        "colab": {
          "base_uri": "https://localhost:8080/",
          "height": 374
        }
      },
      "source": [
        "#Finally fit the model and train\n",
        "Predictor.fit(x_train, y_train, batch_size=10, epochs=10)"
      ],
      "execution_count": 11,
      "outputs": [
        {
          "output_type": "stream",
          "text": [
            "Epoch 1/10\n",
            "1510/1510 [==============================] - 13s 9ms/step - loss: 0.0046\n",
            "Epoch 2/10\n",
            "1510/1510 [==============================] - 12s 8ms/step - loss: 2.3203e-04\n",
            "Epoch 3/10\n",
            "1510/1510 [==============================] - 12s 8ms/step - loss: 2.3308e-04\n",
            "Epoch 4/10\n",
            "1510/1510 [==============================] - 12s 8ms/step - loss: 2.3367e-04\n",
            "Epoch 5/10\n",
            "1510/1510 [==============================] - 12s 8ms/step - loss: 1.9390e-04\n",
            "Epoch 6/10\n",
            "1510/1510 [==============================] - 12s 8ms/step - loss: 1.9336e-04\n",
            "Epoch 7/10\n",
            "1510/1510 [==============================] - 13s 8ms/step - loss: 1.9518e-04\n",
            "Epoch 8/10\n",
            "1510/1510 [==============================] - 12s 8ms/step - loss: 1.6096e-04\n",
            "Epoch 9/10\n",
            "1510/1510 [==============================] - 13s 8ms/step - loss: 1.8430e-04\n",
            "Epoch 10/10\n",
            "1510/1510 [==============================] - 12s 8ms/step - loss: 2.1220e-04\n"
          ],
          "name": "stdout"
        },
        {
          "output_type": "execute_result",
          "data": {
            "text/plain": [
              "<keras.callbacks.callbacks.History at 0x7f3f76501eb8>"
            ]
          },
          "metadata": {
            "tags": []
          },
          "execution_count": 11
        }
      ]
    },
    {
      "cell_type": "code",
      "metadata": {
        "id": "jc1AD0ebLOdo",
        "colab_type": "code",
        "colab": {}
      },
      "source": [
        "#Preparing the test set\n",
        "test_data = scaled_data[train_len - 100: , : ]\n",
        "#Preparing the x and y test sets\n",
        "x_test = []\n",
        "y_test =  dataset[train_len : , : ] #Get all of the rows from index 1603 to the rest and all of the columns (in this case it's only column 'Close'), so 2003 - 1603 = 400 rows of data\n",
        "for i in range(100,len(test_data)):\n",
        "    x_test.append(test_data[i-100:i,0])"
      ],
      "execution_count": 0,
      "outputs": []
    },
    {
      "cell_type": "code",
      "metadata": {
        "id": "KL0Pd96ELkWx",
        "colab_type": "code",
        "colab": {}
      },
      "source": [
        "#Tranform into required np array form \n",
        "x_test = np.array(x_test)"
      ],
      "execution_count": 0,
      "outputs": []
    },
    {
      "cell_type": "code",
      "metadata": {
        "id": "mWL7w_JILnkN",
        "colab_type": "code",
        "colab": {}
      },
      "source": [
        "#Reshape the data into the shape accepted by the LSTM\n",
        "x_test = np.reshape(x_test, (x_test.shape[0],x_test.shape[1],1))"
      ],
      "execution_count": 0,
      "outputs": []
    },
    {
      "cell_type": "code",
      "metadata": {
        "id": "U7kiGUiHLsxN",
        "colab_type": "code",
        "colab": {}
      },
      "source": [
        "#storing the predicted values in y_pred\n",
        "y_pred = Predictor.predict(x_test) \n",
        "y_pred = scaler.inverse_transform(y_pred)#Undo scaling"
      ],
      "execution_count": 0,
      "outputs": []
    },
    {
      "cell_type": "code",
      "metadata": {
        "id": "f3Ms_4W7LvGN",
        "colab_type": "code",
        "outputId": "4f47c1fb-b490-47b0-bdfc-2b742f9c8b40",
        "colab": {
          "base_uri": "https://localhost:8080/",
          "height": 34
        }
      },
      "source": [
        "#Using RSME as a regression metric for evaluation\n",
        "rmse=np.sqrt(np.mean(((y_pred- y_test)**2)))\n",
        "rmse"
      ],
      "execution_count": 16,
      "outputs": [
        {
          "output_type": "execute_result",
          "data": {
            "text/plain": [
              "56.7177630848128"
            ]
          },
          "metadata": {
            "tags": []
          },
          "execution_count": 16
        }
      ]
    },
    {
      "cell_type": "code",
      "metadata": {
        "id": "cFrYdx0kLxPC",
        "colab_type": "code",
        "outputId": "ef6a57f5-d67b-4837-800e-09e8943d78fe",
        "colab": {
          "base_uri": "https://localhost:8080/",
          "height": 667
        }
      },
      "source": [
        "#Plot/Create the data for the graph\n",
        "train = close[:train_len]\n",
        "compare = close[train_len:]\n",
        "compare['y_pred'] = y_pred\n",
        "#Visualize the data\n",
        "plt.figure(figsize=(18,9))\n",
        "plt.title('Model')\n",
        "plt.xlabel('Date', fontsize=12)\n",
        "plt.ylabel('Close Price USD ($)', fontsize=12)\n",
        "plt.plot(train['Close'])\n",
        "plt.plot(compare[['Close', 'y_pred']])\n",
        "plt.legend(['Train', 'Test', 'y_pred'], loc='lower right')\n",
        "plt.show()"
      ],
      "execution_count": 17,
      "outputs": [
        {
          "output_type": "stream",
          "text": [
            "/usr/local/lib/python3.6/dist-packages/ipykernel_launcher.py:3: SettingWithCopyWarning: \n",
            "A value is trying to be set on a copy of a slice from a DataFrame.\n",
            "Try using .loc[row_indexer,col_indexer] = value instead\n",
            "\n",
            "See the caveats in the documentation: https://pandas.pydata.org/pandas-docs/stable/user_guide/indexing.html#returning-a-view-versus-a-copy\n",
            "  This is separate from the ipykernel package so we can avoid doing imports until\n"
          ],
          "name": "stderr"
        },
        {
          "output_type": "display_data",
          "data": {
            "image/png": "[encoded data removed]",
            "text/plain": [
              "<Figure size 1296x648 with 1 Axes>"
            ]
          },
          "metadata": {
            "tags": [],
            "needs_background": "light"
          }
        }
      ]
    },
    {
      "cell_type": "code",
      "metadata": {
        "id": "1dyPWfxQL_dZ",
        "colab_type": "code",
        "outputId": "0a71e6fd-a639-4ac2-b09f-f9220d45d9c6",
        "colab": {
          "base_uri": "https://localhost:8080/",
          "height": 450
        }
      },
      "source": [
        "#comparing the predictions to the actual value\n",
        "compare"
      ],
      "execution_count": 18,
      "outputs": [
        {
          "output_type": "execute_result",
          "data": {
            "text/html": [
              "<div>\n",
              "<style scoped>\n",
              "    .dataframe tbody tr th:only-of-type {\n",
              "        vertical-align: middle;\n",
              "    }\n",
              "\n",
              "    .dataframe tbody tr th {\n",
              "        vertical-align: top;\n",
              "    }\n",
              "\n",
              "    .dataframe thead th {\n",
              "        text-align: right;\n",
              "    }\n",
              "</style>\n",
              "<table border=\"1\" class=\"dataframe\">\n",
              "  <thead>\n",
              "    <tr style=\"text-align: right;\">\n",
              "      <th></th>\n",
              "      <th>Close</th>\n",
              "      <th>y_pred</th>\n",
              "    </tr>\n",
              "    <tr>\n",
              "      <th>Date</th>\n",
              "      <th></th>\n",
              "      <th></th>\n",
              "    </tr>\n",
              "  </thead>\n",
              "  <tbody>\n",
              "    <tr>\n",
              "      <th>2018-05-29</th>\n",
              "      <td>1612.869995</td>\n",
              "      <td>1613.871948</td>\n",
              "    </tr>\n",
              "    <tr>\n",
              "      <th>2018-05-30</th>\n",
              "      <td>1624.890015</td>\n",
              "      <td>1617.607910</td>\n",
              "    </tr>\n",
              "    <tr>\n",
              "      <th>2018-05-31</th>\n",
              "      <td>1629.619995</td>\n",
              "      <td>1622.659058</td>\n",
              "    </tr>\n",
              "    <tr>\n",
              "      <th>2018-06-01</th>\n",
              "      <td>1641.540039</td>\n",
              "      <td>1628.418335</td>\n",
              "    </tr>\n",
              "    <tr>\n",
              "      <th>2018-06-04</th>\n",
              "      <td>1665.270020</td>\n",
              "      <td>1635.229614</td>\n",
              "    </tr>\n",
              "    <tr>\n",
              "      <th>...</th>\n",
              "      <td>...</td>\n",
              "      <td>...</td>\n",
              "    </tr>\n",
              "    <tr>\n",
              "      <th>2019-12-24</th>\n",
              "      <td>1789.209961</td>\n",
              "      <td>1800.526245</td>\n",
              "    </tr>\n",
              "    <tr>\n",
              "      <th>2019-12-26</th>\n",
              "      <td>1868.770020</td>\n",
              "      <td>1804.215210</td>\n",
              "    </tr>\n",
              "    <tr>\n",
              "      <th>2019-12-27</th>\n",
              "      <td>1869.800049</td>\n",
              "      <td>1815.150757</td>\n",
              "    </tr>\n",
              "    <tr>\n",
              "      <th>2019-12-30</th>\n",
              "      <td>1846.890015</td>\n",
              "      <td>1828.892212</td>\n",
              "    </tr>\n",
              "    <tr>\n",
              "      <th>2019-12-31</th>\n",
              "      <td>1847.839966</td>\n",
              "      <td>1840.591309</td>\n",
              "    </tr>\n",
              "  </tbody>\n",
              "</table>\n",
              "<p>402 rows × 2 columns</p>\n",
              "</div>"
            ],
            "text/plain": [
              "                  Close       y_pred\n",
              "Date                                \n",
              "2018-05-29  1612.869995  1613.871948\n",
              "2018-05-30  1624.890015  1617.607910\n",
              "2018-05-31  1629.619995  1622.659058\n",
              "2018-06-01  1641.540039  1628.418335\n",
              "2018-06-04  1665.270020  1635.229614\n",
              "...                 ...          ...\n",
              "2019-12-24  1789.209961  1800.526245\n",
              "2019-12-26  1868.770020  1804.215210\n",
              "2019-12-27  1869.800049  1815.150757\n",
              "2019-12-30  1846.890015  1828.892212\n",
              "2019-12-31  1847.839966  1840.591309\n",
              "\n",
              "[402 rows x 2 columns]"
            ]
          },
          "metadata": {
            "tags": []
          },
          "execution_count": 18
        }
      ]
    },
    {
      "cell_type": "code",
      "metadata": {
        "id": "XQXun8d39MRy",
        "colab_type": "code",
        "colab": {}
      },
      "source": [
        ""
      ],
      "execution_count": 0,
      "outputs": []
    }
  ]
}